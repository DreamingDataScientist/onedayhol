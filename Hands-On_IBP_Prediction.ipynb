{
 "cells": [
  {
   "cell_type": "markdown",
   "metadata": {},
   "source": [
    "# Azure Machine Learning SDK \n",
    "## 목차\n",
    "> **1. Data Load**\n",
    "    - Azure Machine Learning DataSet으로 부터 \n",
    "    - Directly File Share로 부터\n",
    "**2. Data Join**\n",
    "    - Pandas\n",
    "**3. Data Export**\n",
    "    - Azure Machine Learning DataSet으로\n",
    "    - Directly File Share로  \n",
    "**4. Autoamted ML**\n",
    "    - Model 등록하기 \n",
    "**5. Result**\n",
    "    - 결과 공유하기"
   ]
  },
  {
   "cell_type": "markdown",
   "metadata": {},
   "source": [
    "# 0. Set Up\n",
    "- Azure Machine Learning SDK에서 제공해주는 azureml 모듈을 Import 합니다."
   ]
  },
  {
   "cell_type": "code",
   "execution_count": 31,
   "metadata": {},
   "outputs": [],
   "source": [
    "import pandas as pd\n",
    "import azureml.core\n",
    "import pandas as pd\n",
    "import numpy as np\n",
    "import logging\n",
    "\n",
    "from azureml.core import Workspace, Experiment, Dataset\n",
    "from azureml.train.automl import AutoMLConfig\n",
    "from datetime import datetime"
   ]
  },
  {
   "cell_type": "markdown",
   "metadata": {},
   "source": [
    "- 현재 사용하고 있는 Azure Machine Learning Workspace를 코드 상에서 Connection합니다."
   ]
  },
  {
   "cell_type": "code",
   "execution_count": 33,
   "metadata": {},
   "outputs": [
    {
     "data": {
      "text/html": [
       "<div>\n",
       "<style scoped>\n",
       "    .dataframe tbody tr th:only-of-type {\n",
       "        vertical-align: middle;\n",
       "    }\n",
       "\n",
       "    .dataframe tbody tr th {\n",
       "        vertical-align: top;\n",
       "    }\n",
       "\n",
       "    .dataframe thead th {\n",
       "        text-align: right;\n",
       "    }\n",
       "</style>\n",
       "<table border=\"1\" class=\"dataframe\">\n",
       "  <thead>\n",
       "    <tr style=\"text-align: right;\">\n",
       "      <th></th>\n",
       "      <th></th>\n",
       "    </tr>\n",
       "  </thead>\n",
       "  <tbody>\n",
       "    <tr>\n",
       "      <th>SDK version</th>\n",
       "      <td>1.0.76</td>\n",
       "    </tr>\n",
       "    <tr>\n",
       "      <th>Subscription ID</th>\n",
       "      <td>81e13e1b-5d14-4a77-9b50-0803f4705d12</td>\n",
       "    </tr>\n",
       "    <tr>\n",
       "      <th>Workspace</th>\n",
       "      <td>hw-cloocus-mlsrv</td>\n",
       "    </tr>\n",
       "    <tr>\n",
       "      <th>SKU</th>\n",
       "      <td>Enterprise</td>\n",
       "    </tr>\n",
       "    <tr>\n",
       "      <th>Resource Group</th>\n",
       "      <td>rg_poc_hw02</td>\n",
       "    </tr>\n",
       "    <tr>\n",
       "      <th>Location</th>\n",
       "      <td>koreacentral</td>\n",
       "    </tr>\n",
       "    <tr>\n",
       "      <th>Run History Name</th>\n",
       "      <td>automl-azuremlSDK</td>\n",
       "    </tr>\n",
       "  </tbody>\n",
       "</table>\n",
       "</div>"
      ],
      "text/plain": [
       "                                                      \n",
       "SDK version       1.0.76                              \n",
       "Subscription ID   81e13e1b-5d14-4a77-9b50-0803f4705d12\n",
       "Workspace         hw-cloocus-mlsrv                    \n",
       "SKU               Enterprise                          \n",
       "Resource Group    rg_poc_hw02                         \n",
       "Location          koreacentral                        \n",
       "Run History Name  automl-azuremlSDK                   "
      ]
     },
     "execution_count": 33,
     "metadata": {},
     "output_type": "execute_result"
    }
   ],
   "source": [
    "ws = Workspace.from_config()\n",
    "\n",
    "experiment_name = 'automl-azuremlSDK'\n",
    "\n",
    "experiment = Experiment(ws, experiment_name)\n",
    "\n",
    "output = {}\n",
    "output['SDK version'] = azureml.core.VERSION\n",
    "output['Subscription ID'] = ws.subscription_id\n",
    "output['Workspace'] = ws.name\n",
    "output['SKU'] = ws.sku\n",
    "output['Resource Group'] = ws.resource_group\n",
    "output['Location'] = ws.location\n",
    "output['Run History Name'] = experiment_name\n",
    "pd.set_option('display.max_colwidth', -1)\n",
    "outputDf = pd.DataFrame(data = output, index = [''])\n",
    "outputDf.T"
   ]
  },
  {
   "cell_type": "markdown",
   "metadata": {},
   "source": [
    "# 1. Data Load\n",
    "\n",
    "### 1) Azure Machine Learning DataSet으로 부터\n",
    "- Azure ML에 등록된 Dataset을 쉽게 Import 할 수 있습니다."
   ]
  },
  {
   "cell_type": "code",
   "execution_count": 3,
   "metadata": {
    "scrolled": true
   },
   "outputs": [],
   "source": [
    "# azureml-core 버전 1.0.72 이상이 필요함\n",
    "#################################### 아래 코드 변경 필요 #######################################\n",
    "from azureml.core import Workspace, Dataset\n",
    "\n",
    "subscription_id = '81e13e1b-5d14-4a77-9b50-0803f4705d12'\n",
    "resource_group = 'RG_POC_HW02'\n",
    "workspace_name = 'hw-cloocus-mlsrv'\n",
    "\n",
    "workspace = Workspace(subscription_id, resource_group, workspace_name)\n",
    "\n",
    "dataset = Dataset.get_by_name(workspace, name='ibpX')\n",
    "\n",
    "###############################################################################################\n",
    "\n",
    "\n",
    "xdataset = dataset.to_pandas_dataframe()"
   ]
  },
  {
   "cell_type": "code",
   "execution_count": 13,
   "metadata": {},
   "outputs": [
    {
     "data": {
      "text/html": [
       "<div>\n",
       "<style scoped>\n",
       "    .dataframe tbody tr th:only-of-type {\n",
       "        vertical-align: middle;\n",
       "    }\n",
       "\n",
       "    .dataframe tbody tr th {\n",
       "        vertical-align: top;\n",
       "    }\n",
       "\n",
       "    .dataframe thead th {\n",
       "        text-align: right;\n",
       "    }\n",
       "</style>\n",
       "<table border=\"1\" class=\"dataframe\">\n",
       "  <thead>\n",
       "    <tr style=\"text-align: right;\">\n",
       "      <th></th>\n",
       "      <th>timestamp</th>\n",
       "      <th>A2FIC1001</th>\n",
       "      <th>A2FI1016</th>\n",
       "      <th>A2TI1039</th>\n",
       "      <th>A2PIC1019</th>\n",
       "      <th>A2TIC1045</th>\n",
       "      <th>A2FIC1023</th>\n",
       "      <th>A2TI1260</th>\n",
       "      <th>A2TIC1040</th>\n",
       "      <th>A2FIC1027</th>\n",
       "      <th>A2FIC1020</th>\n",
       "      <th>A2PI1258</th>\n",
       "      <th>A2PDI1017A</th>\n",
       "      <th>A2PDI1017B</th>\n",
       "      <th>A2PI1018</th>\n",
       "      <th>A2TI1204</th>\n",
       "    </tr>\n",
       "  </thead>\n",
       "  <tbody>\n",
       "    <tr>\n",
       "      <th>0</th>\n",
       "      <td>201801011500</td>\n",
       "      <td>525.0740</td>\n",
       "      <td>519.4849</td>\n",
       "      <td>71.44790</td>\n",
       "      <td>0.679275</td>\n",
       "      <td>44.53076</td>\n",
       "      <td>189.7352</td>\n",
       "      <td>29.24771</td>\n",
       "      <td>86.22105</td>\n",
       "      <td>2.180395</td>\n",
       "      <td>211.3417</td>\n",
       "      <td>1.288046</td>\n",
       "      <td>0.607279</td>\n",
       "      <td>0.195648</td>\n",
       "      <td>1.483658</td>\n",
       "      <td>120.5992</td>\n",
       "    </tr>\n",
       "    <tr>\n",
       "      <th>1</th>\n",
       "      <td>201801021500</td>\n",
       "      <td>524.4335</td>\n",
       "      <td>523.7094</td>\n",
       "      <td>72.50761</td>\n",
       "      <td>0.681772</td>\n",
       "      <td>45.61728</td>\n",
       "      <td>185.3640</td>\n",
       "      <td>28.21494</td>\n",
       "      <td>86.84060</td>\n",
       "      <td>2.075200</td>\n",
       "      <td>209.7350</td>\n",
       "      <td>1.250542</td>\n",
       "      <td>0.571002</td>\n",
       "      <td>0.223391</td>\n",
       "      <td>1.475044</td>\n",
       "      <td>121.2669</td>\n",
       "    </tr>\n",
       "    <tr>\n",
       "      <th>2</th>\n",
       "      <td>201801031500</td>\n",
       "      <td>526.8066</td>\n",
       "      <td>524.0200</td>\n",
       "      <td>72.36311</td>\n",
       "      <td>0.681633</td>\n",
       "      <td>44.57035</td>\n",
       "      <td>189.4110</td>\n",
       "      <td>27.91968</td>\n",
       "      <td>86.76717</td>\n",
       "      <td>2.675530</td>\n",
       "      <td>206.6377</td>\n",
       "      <td>1.273913</td>\n",
       "      <td>0.593844</td>\n",
       "      <td>0.210924</td>\n",
       "      <td>1.484559</td>\n",
       "      <td>121.0310</td>\n",
       "    </tr>\n",
       "    <tr>\n",
       "      <th>3</th>\n",
       "      <td>201801041500</td>\n",
       "      <td>525.6947</td>\n",
       "      <td>527.2949</td>\n",
       "      <td>72.79662</td>\n",
       "      <td>0.682682</td>\n",
       "      <td>44.76646</td>\n",
       "      <td>188.7758</td>\n",
       "      <td>27.82124</td>\n",
       "      <td>87.42059</td>\n",
       "      <td>2.127430</td>\n",
       "      <td>208.3724</td>\n",
       "      <td>1.264119</td>\n",
       "      <td>0.586615</td>\n",
       "      <td>0.216437</td>\n",
       "      <td>1.485460</td>\n",
       "      <td>121.4138</td>\n",
       "    </tr>\n",
       "    <tr>\n",
       "      <th>4</th>\n",
       "      <td>201801051500</td>\n",
       "      <td>524.6626</td>\n",
       "      <td>523.5300</td>\n",
       "      <td>73.32645</td>\n",
       "      <td>0.678926</td>\n",
       "      <td>49.85023</td>\n",
       "      <td>189.7892</td>\n",
       "      <td>28.85439</td>\n",
       "      <td>87.66037</td>\n",
       "      <td>2.332066</td>\n",
       "      <td>207.7811</td>\n",
       "      <td>1.286043</td>\n",
       "      <td>0.601292</td>\n",
       "      <td>0.198154</td>\n",
       "      <td>1.481454</td>\n",
       "      <td>121.6497</td>\n",
       "    </tr>\n",
       "  </tbody>\n",
       "</table>\n",
       "</div>"
      ],
      "text/plain": [
       "      timestamp  A2FIC1001  A2FI1016  A2TI1039  A2PIC1019  A2TIC1045  \\\n",
       "0  201801011500   525.0740  519.4849  71.44790   0.679275   44.53076   \n",
       "1  201801021500   524.4335  523.7094  72.50761   0.681772   45.61728   \n",
       "2  201801031500   526.8066  524.0200  72.36311   0.681633   44.57035   \n",
       "3  201801041500   525.6947  527.2949  72.79662   0.682682   44.76646   \n",
       "4  201801051500   524.6626  523.5300  73.32645   0.678926   49.85023   \n",
       "\n",
       "   A2FIC1023  A2TI1260  A2TIC1040  A2FIC1027  A2FIC1020  A2PI1258  A2PDI1017A  \\\n",
       "0   189.7352  29.24771   86.22105   2.180395   211.3417  1.288046    0.607279   \n",
       "1   185.3640  28.21494   86.84060   2.075200   209.7350  1.250542    0.571002   \n",
       "2   189.4110  27.91968   86.76717   2.675530   206.6377  1.273913    0.593844   \n",
       "3   188.7758  27.82124   87.42059   2.127430   208.3724  1.264119    0.586615   \n",
       "4   189.7892  28.85439   87.66037   2.332066   207.7811  1.286043    0.601292   \n",
       "\n",
       "   A2PDI1017B  A2PI1018  A2TI1204  \n",
       "0    0.195648  1.483658  120.5992  \n",
       "1    0.223391  1.475044  121.2669  \n",
       "2    0.210924  1.484559  121.0310  \n",
       "3    0.216437  1.485460  121.4138  \n",
       "4    0.198154  1.481454  121.6497  "
      ]
     },
     "execution_count": 13,
     "metadata": {},
     "output_type": "execute_result"
    }
   ],
   "source": [
    "xdataset.head()"
   ]
  },
  {
   "cell_type": "code",
   "execution_count": 4,
   "metadata": {
    "scrolled": true
   },
   "outputs": [],
   "source": [
    "# azureml-core 버전 1.0.72 이상이 필요함\n",
    "#################################### 아래 코드 변경 필요 #######################################\n",
    "from azureml.core import Workspace, Dataset\n",
    "\n",
    "subscription_id = '81e13e1b-5d14-4a77-9b50-0803f4705d12'\n",
    "resource_group = 'RG_POC_HW02'\n",
    "workspace_name = 'hw-cloocus-mlsrv'\n",
    "\n",
    "workspace = Workspace(subscription_id, resource_group, workspace_name)\n",
    "\n",
    "dataset = Dataset.get_by_name(workspace, name='ibpY')\n",
    "###############################################################################################\n",
    "\n",
    "\n",
    "ydataset = dataset.to_pandas_dataframe()"
   ]
  },
  {
   "cell_type": "code",
   "execution_count": 6,
   "metadata": {},
   "outputs": [
    {
     "data": {
      "text/html": [
       "<div>\n",
       "<style scoped>\n",
       "    .dataframe tbody tr th:only-of-type {\n",
       "        vertical-align: middle;\n",
       "    }\n",
       "\n",
       "    .dataframe tbody tr th {\n",
       "        vertical-align: top;\n",
       "    }\n",
       "\n",
       "    .dataframe thead th {\n",
       "        text-align: right;\n",
       "    }\n",
       "</style>\n",
       "<table border=\"1\" class=\"dataframe\">\n",
       "  <thead>\n",
       "    <tr style=\"text-align: right;\">\n",
       "      <th></th>\n",
       "      <th>timestamp</th>\n",
       "      <th>IBP</th>\n",
       "    </tr>\n",
       "  </thead>\n",
       "  <tbody>\n",
       "    <tr>\n",
       "      <th>0</th>\n",
       "      <td>201801011500</td>\n",
       "      <td>96.3</td>\n",
       "    </tr>\n",
       "    <tr>\n",
       "      <th>1</th>\n",
       "      <td>201801021500</td>\n",
       "      <td>96.8</td>\n",
       "    </tr>\n",
       "    <tr>\n",
       "      <th>2</th>\n",
       "      <td>201801031500</td>\n",
       "      <td>96.2</td>\n",
       "    </tr>\n",
       "    <tr>\n",
       "      <th>3</th>\n",
       "      <td>201801041500</td>\n",
       "      <td>96.8</td>\n",
       "    </tr>\n",
       "    <tr>\n",
       "      <th>4</th>\n",
       "      <td>201801051500</td>\n",
       "      <td>97.9</td>\n",
       "    </tr>\n",
       "  </tbody>\n",
       "</table>\n",
       "</div>"
      ],
      "text/plain": [
       "      timestamp   IBP\n",
       "0  201801011500  96.3\n",
       "1  201801021500  96.8\n",
       "2  201801031500  96.2\n",
       "3  201801041500  96.8\n",
       "4  201801051500  97.9"
      ]
     },
     "execution_count": 6,
     "metadata": {},
     "output_type": "execute_result"
    }
   ],
   "source": [
    "ydataset.head()"
   ]
  },
  {
   "cell_type": "markdown",
   "metadata": {},
   "source": [
    "\n",
    "### 2) JMP (File Share)으로 부터\n",
    "- Jupyter Notebook VM에 Terminal 에서 작업을 통해 연동 가능합니다."
   ]
  },
  {
   "cell_type": "markdown",
   "metadata": {},
   "source": [
    "# 2. Data Join\n",
    "- Python Code로 Timestamp 기준으로 데이터를 Join합니다.\n",
    "- pandas에 merge() 사용"
   ]
  },
  {
   "cell_type": "code",
   "execution_count": 26,
   "metadata": {},
   "outputs": [
    {
     "name": "stdout",
     "output_type": "stream",
     "text": [
      "xdata의 row 수 : 439, xdata의 column 수 : 16\n",
      "xdata의 row 수 : 439, xdata의 column 수 : 2\n"
     ]
    }
   ],
   "source": [
    "print(\"xdata의 row 수 : {}, xdata의 column 수 : {}\".format(xdataset.shape[0], xdataset.shape[1]))\n",
    "print(\"xdata의 row 수 : {}, xdata의 column 수 : {}\".format(ydataset.shape[0], ydataset.shape[1]))"
   ]
  },
  {
   "cell_type": "code",
   "execution_count": 9,
   "metadata": {},
   "outputs": [
    {
     "data": {
      "text/html": [
       "<div>\n",
       "<style scoped>\n",
       "    .dataframe tbody tr th:only-of-type {\n",
       "        vertical-align: middle;\n",
       "    }\n",
       "\n",
       "    .dataframe tbody tr th {\n",
       "        vertical-align: top;\n",
       "    }\n",
       "\n",
       "    .dataframe thead th {\n",
       "        text-align: right;\n",
       "    }\n",
       "</style>\n",
       "<table border=\"1\" class=\"dataframe\">\n",
       "  <thead>\n",
       "    <tr style=\"text-align: right;\">\n",
       "      <th></th>\n",
       "      <th>timestamp</th>\n",
       "      <th>A2FIC1001</th>\n",
       "      <th>A2FI1016</th>\n",
       "      <th>A2TI1039</th>\n",
       "      <th>A2PIC1019</th>\n",
       "      <th>A2TIC1045</th>\n",
       "      <th>A2FIC1023</th>\n",
       "      <th>A2TI1260</th>\n",
       "      <th>A2TIC1040</th>\n",
       "      <th>A2FIC1027</th>\n",
       "      <th>A2FIC1020</th>\n",
       "      <th>A2PI1258</th>\n",
       "      <th>A2PDI1017A</th>\n",
       "      <th>A2PDI1017B</th>\n",
       "      <th>A2PI1018</th>\n",
       "      <th>A2TI1204</th>\n",
       "      <th>IBP</th>\n",
       "    </tr>\n",
       "  </thead>\n",
       "  <tbody>\n",
       "    <tr>\n",
       "      <th>0</th>\n",
       "      <td>201801011500</td>\n",
       "      <td>525.0740</td>\n",
       "      <td>519.4849</td>\n",
       "      <td>71.44790</td>\n",
       "      <td>0.679275</td>\n",
       "      <td>44.53076</td>\n",
       "      <td>189.7352</td>\n",
       "      <td>29.24771</td>\n",
       "      <td>86.22105</td>\n",
       "      <td>2.180395</td>\n",
       "      <td>211.3417</td>\n",
       "      <td>1.288046</td>\n",
       "      <td>0.607279</td>\n",
       "      <td>0.195648</td>\n",
       "      <td>1.483658</td>\n",
       "      <td>120.5992</td>\n",
       "      <td>96.3</td>\n",
       "    </tr>\n",
       "    <tr>\n",
       "      <th>1</th>\n",
       "      <td>201801021500</td>\n",
       "      <td>524.4335</td>\n",
       "      <td>523.7094</td>\n",
       "      <td>72.50761</td>\n",
       "      <td>0.681772</td>\n",
       "      <td>45.61728</td>\n",
       "      <td>185.3640</td>\n",
       "      <td>28.21494</td>\n",
       "      <td>86.84060</td>\n",
       "      <td>2.075200</td>\n",
       "      <td>209.7350</td>\n",
       "      <td>1.250542</td>\n",
       "      <td>0.571002</td>\n",
       "      <td>0.223391</td>\n",
       "      <td>1.475044</td>\n",
       "      <td>121.2669</td>\n",
       "      <td>96.8</td>\n",
       "    </tr>\n",
       "    <tr>\n",
       "      <th>2</th>\n",
       "      <td>201801031500</td>\n",
       "      <td>526.8066</td>\n",
       "      <td>524.0200</td>\n",
       "      <td>72.36311</td>\n",
       "      <td>0.681633</td>\n",
       "      <td>44.57035</td>\n",
       "      <td>189.4110</td>\n",
       "      <td>27.91968</td>\n",
       "      <td>86.76717</td>\n",
       "      <td>2.675530</td>\n",
       "      <td>206.6377</td>\n",
       "      <td>1.273913</td>\n",
       "      <td>0.593844</td>\n",
       "      <td>0.210924</td>\n",
       "      <td>1.484559</td>\n",
       "      <td>121.0310</td>\n",
       "      <td>96.2</td>\n",
       "    </tr>\n",
       "    <tr>\n",
       "      <th>3</th>\n",
       "      <td>201801041500</td>\n",
       "      <td>525.6947</td>\n",
       "      <td>527.2949</td>\n",
       "      <td>72.79662</td>\n",
       "      <td>0.682682</td>\n",
       "      <td>44.76646</td>\n",
       "      <td>188.7758</td>\n",
       "      <td>27.82124</td>\n",
       "      <td>87.42059</td>\n",
       "      <td>2.127430</td>\n",
       "      <td>208.3724</td>\n",
       "      <td>1.264119</td>\n",
       "      <td>0.586615</td>\n",
       "      <td>0.216437</td>\n",
       "      <td>1.485460</td>\n",
       "      <td>121.4138</td>\n",
       "      <td>96.8</td>\n",
       "    </tr>\n",
       "    <tr>\n",
       "      <th>4</th>\n",
       "      <td>201801051500</td>\n",
       "      <td>524.6626</td>\n",
       "      <td>523.5300</td>\n",
       "      <td>73.32645</td>\n",
       "      <td>0.678926</td>\n",
       "      <td>49.85023</td>\n",
       "      <td>189.7892</td>\n",
       "      <td>28.85439</td>\n",
       "      <td>87.66037</td>\n",
       "      <td>2.332066</td>\n",
       "      <td>207.7811</td>\n",
       "      <td>1.286043</td>\n",
       "      <td>0.601292</td>\n",
       "      <td>0.198154</td>\n",
       "      <td>1.481454</td>\n",
       "      <td>121.6497</td>\n",
       "      <td>97.9</td>\n",
       "    </tr>\n",
       "  </tbody>\n",
       "</table>\n",
       "</div>"
      ],
      "text/plain": [
       "      timestamp  A2FIC1001  A2FI1016  A2TI1039  A2PIC1019  A2TIC1045  \\\n",
       "0  201801011500   525.0740  519.4849  71.44790   0.679275   44.53076   \n",
       "1  201801021500   524.4335  523.7094  72.50761   0.681772   45.61728   \n",
       "2  201801031500   526.8066  524.0200  72.36311   0.681633   44.57035   \n",
       "3  201801041500   525.6947  527.2949  72.79662   0.682682   44.76646   \n",
       "4  201801051500   524.6626  523.5300  73.32645   0.678926   49.85023   \n",
       "\n",
       "   A2FIC1023  A2TI1260  A2TIC1040  A2FIC1027  A2FIC1020  A2PI1258  A2PDI1017A  \\\n",
       "0   189.7352  29.24771   86.22105   2.180395   211.3417  1.288046    0.607279   \n",
       "1   185.3640  28.21494   86.84060   2.075200   209.7350  1.250542    0.571002   \n",
       "2   189.4110  27.91968   86.76717   2.675530   206.6377  1.273913    0.593844   \n",
       "3   188.7758  27.82124   87.42059   2.127430   208.3724  1.264119    0.586615   \n",
       "4   189.7892  28.85439   87.66037   2.332066   207.7811  1.286043    0.601292   \n",
       "\n",
       "   A2PDI1017B  A2PI1018  A2TI1204   IBP  \n",
       "0    0.195648  1.483658  120.5992  96.3  \n",
       "1    0.223391  1.475044  121.2669  96.8  \n",
       "2    0.210924  1.484559  121.0310  96.2  \n",
       "3    0.216437  1.485460  121.4138  96.8  \n",
       "4    0.198154  1.481454  121.6497  97.9  "
      ]
     },
     "execution_count": 9,
     "metadata": {},
     "output_type": "execute_result"
    }
   ],
   "source": [
    "fulldata = pd.merge(xdataset, ydataset)\n",
    "\n",
    "fulldata.head()"
   ]
  },
  {
   "cell_type": "code",
   "execution_count": 29,
   "metadata": {},
   "outputs": [
    {
     "name": "stdout",
     "output_type": "stream",
     "text": [
      "fulldata row 수 : 439, fulldata column 수 : 17\n"
     ]
    }
   ],
   "source": [
    "print(\"fulldata row 수 : {}, fulldata column 수 : {}\".format(fulldata.shape[0], fulldata.shape[1]))"
   ]
  },
  {
   "cell_type": "markdown",
   "metadata": {},
   "source": [
    "# 3. Export Data"
   ]
  },
  {
   "cell_type": "code",
   "execution_count": 53,
   "metadata": {},
   "outputs": [],
   "source": [
    "fulldata.to_csv('./fulldata_ibp.csv', index=False, header=True)"
   ]
  },
  {
   "cell_type": "code",
   "execution_count": 56,
   "metadata": {
    "scrolled": true
   },
   "outputs": [
    {
     "name": "stdout",
     "output_type": "stream",
     "text": [
      "Uploading an estimated of 1 files\n",
      "Uploading ./fulldata_ibp.csv\n",
      "Uploaded ./fulldata_ibp.csv, 1 files out of an estimated total of 1\n",
      "Uploaded 1 files\n"
     ]
    },
    {
     "data": {
      "text/plain": [
       "$AZUREML_DATAREFERENCE_58d443cbb59142418832bd9763f0b786"
      ]
     },
     "execution_count": 56,
     "metadata": {},
     "output_type": "execute_result"
    }
   ],
   "source": [
    "from azureml.core import Workspace, Datastore, Dataset\n",
    "\n",
    "datastore = Datastore.get(ws, \"datastore\")\n",
    "datastore.upload_files(files = ['./fulldata_ibp.csv'], target_path = 'fulldata_ibp/', overwrite = True,show_progress = True)"
   ]
  },
  {
   "cell_type": "markdown",
   "metadata": {},
   "source": [
    "# 4. Autoamted ML"
   ]
  },
  {
   "cell_type": "markdown",
   "metadata": {},
   "source": [
    "### 1) Train Compute 지정"
   ]
  },
  {
   "cell_type": "code",
   "execution_count": 37,
   "metadata": {},
   "outputs": [
    {
     "name": "stdout",
     "output_type": "stream",
     "text": [
      "Found existing compute target.\n",
      "Checking cluster status...\n",
      "Succeeded\n",
      "AmlCompute wait for completion finished\n",
      "Minimum number of nodes requested have been provisioned\n"
     ]
    }
   ],
   "source": [
    "from azureml.core.compute import AmlCompute\n",
    "from azureml.core.compute import ComputeTarget\n",
    "\n",
    "amlcompute_cluster_name = \"HWHOLTrainingCl\"\n",
    "\n",
    "found=False\n",
    "\n",
    "cts = ws.compute_targets\n",
    "\n",
    "if amlcompute_cluster_name in cts and cts[amlcompute_cluster_name].type == 'AmlCompute':\n",
    "    found = True\n",
    "    print('Found existing compute target.')\n",
    "    compute_target = cts[amlcompute_cluster_name]\n",
    "    \n",
    "if not found:\n",
    "    print('Creating a new compute target...')\n",
    "    provisioning_config = AmlCompute.provisioning_configuration(vm_size = \"STANDARD_D4_V2\",max_nodes = 4)\n",
    "    compute_target = ComputeTarget.create(ws, amlcompute_cluster_name, provisioning_config)\n",
    "\n",
    "print('Checking cluster status...')\n",
    "\n",
    "compute_target.wait_for_completion(show_output = True, min_node_count = None, timeout_in_minutes = 20)"
   ]
  },
  {
   "cell_type": "markdown",
   "metadata": {},
   "source": [
    "### 2) Train & Test 데이터 셋 Split"
   ]
  },
  {
   "cell_type": "code",
   "execution_count": 59,
   "metadata": {},
   "outputs": [],
   "source": [
    "dataset = Dataset.Tabular.from_delimited_files(path=datastore.path('fulldata_ibp/fulldata_ibp.csv'))"
   ]
  },
  {
   "cell_type": "code",
   "execution_count": 60,
   "metadata": {},
   "outputs": [],
   "source": [
    "train_data, test_data = dataset.random_split(percentage=0.8, seed=223)"
   ]
  },
  {
   "cell_type": "markdown",
   "metadata": {},
   "source": [
    "### 3) Train & Test 데이터 셋 저장하기"
   ]
  },
  {
   "cell_type": "code",
   "execution_count": 61,
   "metadata": {},
   "outputs": [
    {
     "data": {
      "text/html": [
       "<div>\n",
       "<style scoped>\n",
       "    .dataframe tbody tr th:only-of-type {\n",
       "        vertical-align: middle;\n",
       "    }\n",
       "\n",
       "    .dataframe tbody tr th {\n",
       "        vertical-align: top;\n",
       "    }\n",
       "\n",
       "    .dataframe thead th {\n",
       "        text-align: right;\n",
       "    }\n",
       "</style>\n",
       "<table border=\"1\" class=\"dataframe\">\n",
       "  <thead>\n",
       "    <tr style=\"text-align: right;\">\n",
       "      <th></th>\n",
       "      <th>timestamp</th>\n",
       "      <th>A2FIC1001</th>\n",
       "      <th>A2FI1016</th>\n",
       "      <th>A2TI1039</th>\n",
       "      <th>A2PIC1019</th>\n",
       "      <th>A2TIC1045</th>\n",
       "      <th>A2FIC1023</th>\n",
       "      <th>A2TI1260</th>\n",
       "      <th>A2TIC1040</th>\n",
       "      <th>A2FIC1027</th>\n",
       "      <th>A2FIC1020</th>\n",
       "      <th>A2PI1258</th>\n",
       "      <th>A2PDI1017A</th>\n",
       "      <th>A2PDI1017B</th>\n",
       "      <th>A2PI1018</th>\n",
       "      <th>A2TI1204</th>\n",
       "      <th>IBP</th>\n",
       "    </tr>\n",
       "  </thead>\n",
       "  <tbody>\n",
       "    <tr>\n",
       "      <th>0</th>\n",
       "      <td>201801011500</td>\n",
       "      <td>525.07</td>\n",
       "      <td>519.48</td>\n",
       "      <td>71.45</td>\n",
       "      <td>0.68</td>\n",
       "      <td>44.53</td>\n",
       "      <td>189.74</td>\n",
       "      <td>29.25</td>\n",
       "      <td>86.22</td>\n",
       "      <td>2.18</td>\n",
       "      <td>211.34</td>\n",
       "      <td>1.29</td>\n",
       "      <td>0.61</td>\n",
       "      <td>0.20</td>\n",
       "      <td>1.48</td>\n",
       "      <td>120.60</td>\n",
       "      <td>96.30</td>\n",
       "    </tr>\n",
       "    <tr>\n",
       "      <th>1</th>\n",
       "      <td>201801021500</td>\n",
       "      <td>524.43</td>\n",
       "      <td>523.71</td>\n",
       "      <td>72.51</td>\n",
       "      <td>0.68</td>\n",
       "      <td>45.62</td>\n",
       "      <td>185.36</td>\n",
       "      <td>28.21</td>\n",
       "      <td>86.84</td>\n",
       "      <td>2.08</td>\n",
       "      <td>209.74</td>\n",
       "      <td>1.25</td>\n",
       "      <td>0.57</td>\n",
       "      <td>0.22</td>\n",
       "      <td>1.48</td>\n",
       "      <td>121.27</td>\n",
       "      <td>96.80</td>\n",
       "    </tr>\n",
       "    <tr>\n",
       "      <th>2</th>\n",
       "      <td>201801031500</td>\n",
       "      <td>526.81</td>\n",
       "      <td>524.02</td>\n",
       "      <td>72.36</td>\n",
       "      <td>0.68</td>\n",
       "      <td>44.57</td>\n",
       "      <td>189.41</td>\n",
       "      <td>27.92</td>\n",
       "      <td>86.77</td>\n",
       "      <td>2.68</td>\n",
       "      <td>206.64</td>\n",
       "      <td>1.27</td>\n",
       "      <td>0.59</td>\n",
       "      <td>0.21</td>\n",
       "      <td>1.48</td>\n",
       "      <td>121.03</td>\n",
       "      <td>96.20</td>\n",
       "    </tr>\n",
       "    <tr>\n",
       "      <th>3</th>\n",
       "      <td>201801051500</td>\n",
       "      <td>524.66</td>\n",
       "      <td>523.53</td>\n",
       "      <td>73.33</td>\n",
       "      <td>0.68</td>\n",
       "      <td>49.85</td>\n",
       "      <td>189.79</td>\n",
       "      <td>28.85</td>\n",
       "      <td>87.66</td>\n",
       "      <td>2.33</td>\n",
       "      <td>207.78</td>\n",
       "      <td>1.29</td>\n",
       "      <td>0.60</td>\n",
       "      <td>0.20</td>\n",
       "      <td>1.48</td>\n",
       "      <td>121.65</td>\n",
       "      <td>97.90</td>\n",
       "    </tr>\n",
       "    <tr>\n",
       "      <th>4</th>\n",
       "      <td>201801081500</td>\n",
       "      <td>464.64</td>\n",
       "      <td>474.04</td>\n",
       "      <td>69.14</td>\n",
       "      <td>0.68</td>\n",
       "      <td>51.17</td>\n",
       "      <td>196.38</td>\n",
       "      <td>29.10</td>\n",
       "      <td>81.78</td>\n",
       "      <td>2.19</td>\n",
       "      <td>161.33</td>\n",
       "      <td>1.20</td>\n",
       "      <td>0.52</td>\n",
       "      <td>0.18</td>\n",
       "      <td>1.39</td>\n",
       "      <td>121.15</td>\n",
       "      <td>98.00</td>\n",
       "    </tr>\n",
       "  </tbody>\n",
       "</table>\n",
       "</div>"
      ],
      "text/plain": [
       "      timestamp  A2FIC1001  A2FI1016  A2TI1039  A2PIC1019  A2TIC1045  \\\n",
       "0  201801011500 525.07     519.48    71.45     0.68       44.53        \n",
       "1  201801021500 524.43     523.71    72.51     0.68       45.62        \n",
       "2  201801031500 526.81     524.02    72.36     0.68       44.57        \n",
       "3  201801051500 524.66     523.53    73.33     0.68       49.85        \n",
       "4  201801081500 464.64     474.04    69.14     0.68       51.17        \n",
       "\n",
       "   A2FIC1023  A2TI1260  A2TIC1040  A2FIC1027  A2FIC1020  A2PI1258  A2PDI1017A  \\\n",
       "0 189.74     29.25     86.22      2.18       211.34     1.29      0.61          \n",
       "1 185.36     28.21     86.84      2.08       209.74     1.25      0.57          \n",
       "2 189.41     27.92     86.77      2.68       206.64     1.27      0.59          \n",
       "3 189.79     28.85     87.66      2.33       207.78     1.29      0.60          \n",
       "4 196.38     29.10     81.78      2.19       161.33     1.20      0.52          \n",
       "\n",
       "   A2PDI1017B  A2PI1018  A2TI1204   IBP  \n",
       "0 0.20        1.48      120.60    96.30  \n",
       "1 0.22        1.48      121.27    96.80  \n",
       "2 0.21        1.48      121.03    96.20  \n",
       "3 0.20        1.48      121.65    97.90  \n",
       "4 0.18        1.39      121.15    98.00  "
      ]
     },
     "execution_count": 61,
     "metadata": {},
     "output_type": "execute_result"
    }
   ],
   "source": [
    "# train 데이터 셋 등록하기 \n",
    "train_data.register(workspace = ws, name = 'IBP_train_dataset',\n",
    "                       description = 'IBP Prediction by Automated ML',\n",
    "                      create_new_version=True)\n",
    "\n",
    "# test 데이터 셋 등록하기\n",
    "test_data.register(workspace = ws, name = 'IBP_test_dataset', description = 'IBP Prediction by Automated ML', create_new_version=True)\n",
    "\n",
    "train_data.to_pandas_dataframe().head()"
   ]
  },
  {
   "cell_type": "markdown",
   "metadata": {},
   "source": [
    "### 4) Automated ML 셋팅하기"
   ]
  },
  {
   "cell_type": "code",
   "execution_count": 63,
   "metadata": {},
   "outputs": [],
   "source": [
    "automl_settings = {\n",
    "    \"enable_early_stopping\": True, \n",
    "    \"experiment_timeout_hours\" : 0.2,\n",
    "    \"max_concurrent_iterations\": 4,\n",
    "    \"max_cores_per_iteration\": -1,\n",
    "    \"n_cross_validations\": 5,\n",
    "    \"primary_metric\": 'normalized_root_mean_squared_error',\n",
    "    \"verbosity\": logging.INFO\n",
    "}\n",
    "\n",
    "# 예측할 필드 - IBP### 3) Train & Test 데이터 셋 저장하기\n",
    "label =\"IBP\"\n",
    "\n",
    "automl_config = AutoMLConfig(task = 'regression',\n",
    "                             debug_log = 'automl_errors.log',\n",
    "                             compute_target=compute_target,\n",
    "                             training_data = train_data,\n",
    "                             label_column_name = label,\n",
    "                             **automl_settings\n",
    "                            )"
   ]
  },
  {
   "cell_type": "code",
   "execution_count": 64,
   "metadata": {},
   "outputs": [
    {
     "name": "stderr",
     "output_type": "stream",
     "text": [
      "WARNING - Received unrecognized parameter: experiment_timeout_hours 0.2\n"
     ]
    }
   ],
   "source": [
    "remote_run = experiment.submit(automl_config, show_output = False)"
   ]
  },
  {
   "cell_type": "code",
   "execution_count": 65,
   "metadata": {},
   "outputs": [
    {
     "data": {
      "text/html": [
       "<table style=\"width:100%\"><tr><th>Experiment</th><th>Id</th><th>Type</th><th>Status</th><th>Details Page</th><th>Docs Page</th></tr><tr><td>automl-azuremlSDK</td><td>AutoML_04bdcc36-3b24-460e-bb42-2b4b7863ffe0</td><td>automl</td><td>NotStarted</td><td><a href=\"https://ml.azure.com/experiments/automl-azuremlSDK/runs/AutoML_04bdcc36-3b24-460e-bb42-2b4b7863ffe0?wsid=/subscriptions/81e13e1b-5d14-4a77-9b50-0803f4705d12/resourcegroups/rg_poc_hw02/workspaces/hw-cloocus-mlsrv\" target=\"_blank\" rel=\"noopener\">Link to Azure Machine Learning studio</a></td><td><a href=\"https://docs.microsoft.com/en-us/python/api/overview/azure/ml/intro?view=azure-ml-py\" target=\"_blank\" rel=\"noopener\">Link to Documentation</a></td></tr></table>"
      ],
      "text/plain": [
       "Run(Experiment: automl-azuremlSDK,\n",
       "Id: AutoML_04bdcc36-3b24-460e-bb42-2b4b7863ffe0,\n",
       "Type: automl,\n",
       "Status: NotStarted)"
      ]
     },
     "execution_count": 65,
     "metadata": {},
     "output_type": "execute_result"
    }
   ],
   "source": [
    "remote_run"
   ]
  },
  {
   "cell_type": "code",
   "execution_count": null,
   "metadata": {},
   "outputs": [],
   "source": [
    "remote_run.wait_for_completion()"
   ]
  },
  {
   "cell_type": "code",
   "execution_count": null,
   "metadata": {},
   "outputs": [],
   "source": [
    "best_run, fitted_model = remote_run.get_output()"
   ]
  },
  {
   "cell_type": "code",
   "execution_count": null,
   "metadata": {},
   "outputs": [],
   "source": [
    "best_run_customized, fitted_model_customized = remote_run.get_output()"
   ]
  },
  {
   "cell_type": "code",
   "execution_count": null,
   "metadata": {},
   "outputs": [],
   "source": [
    "from azureml.widgets import RunDetails\n",
    "RunDetails(remote_run).show()"
   ]
  },
  {
   "cell_type": "code",
   "execution_count": null,
   "metadata": {},
   "outputs": [],
   "source": []
  }
 ],
 "metadata": {
  "kernelspec": {
   "display_name": "Python 3.6 - AzureML",
   "language": "python",
   "name": "python3-azureml"
  },
  "language_info": {
   "codemirror_mode": {
    "name": "ipython",
    "version": 3
   },
   "file_extension": ".py",
   "mimetype": "text/x-python",
   "name": "python",
   "nbconvert_exporter": "python",
   "pygments_lexer": "ipython3",
   "version": "3.6.9"
  }
 },
 "nbformat": 4,
 "nbformat_minor": 2
}
